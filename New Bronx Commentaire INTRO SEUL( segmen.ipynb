{
 "cells": [
  {
   "cell_type": "markdown",
   "metadata": {
    "collapsed": true
   },
   "source": [
    "# Bronx (in New york) segmentation and clustering"
   ]
  },
  {
   "cell_type": "markdown",
   "metadata": {},
   "source": [
    "## Description of the problem"
   ]
  },
  {
   "cell_type": "markdown",
   "metadata": {},
   "source": [
    "### M Rob Zuntfy the General Manager of a \"fruits and vegetable store\" approached me as a datascientist and asked me to solve his problem.\n",
    "He wants to launch a store in the Bronx, in New York City and doesn't know very well how to proceed especially with the location of his future store.\n",
    "\n",
    "But he has some constraintes and preferences:\n",
    "First he surely wants to have a store in Bedford Park, a neighborhood of the Bronx, beacause he loves this place and he has already notice that there is some stores with the same activity there.\n",
    "So that he thinks that, having a fruit and vegetable buisiness there will give him buisiness opportunities, as some stores already exist there. And this fact, shows that this location is a very interesting market place .\n",
    "    \n",
    "In another hand, he has some doubt beacause he is afraid of the competition he will face with the existing stores already estabilished in this place.\n",
    "\n",
    "The last point raised by M Rob Zuntfy is that, ha has a preference for a location near a bus station because for him, his target clients are people who usually uses the bus to move.\n",
    "And with this last option, he'd like to launch his store in another place, but he doesn't know where!"
   ]
  },
  {
   "cell_type": "markdown",
   "metadata": {},
   "source": [
    "## Description of the data and how it will be used to solve the problem"
   ]
  },
  {
   "cell_type": "markdown",
   "metadata": {},
   "source": [
    "### I/ Introduction and data source\n",
    "\n",
    "To approach this problem I will use a New york city and neighbordhood boundice json file.\n",
    "I can find this file on www.data.gov or in this Coursera Capstone course.\n",
    "\n",
    "\n",
    "### II/ Metodology: overview\n",
    "I will have a focus on the Bronx and its neighborhoods.\n",
    "To successfuly complete this task I will by imorting the dataset, cleanning it, extracting the useful dataset of it, using the geospatial coordinate of the Bronx and also by using my Foursquare client and secret ID to be able to look at the different stores around the Bronx.\n",
    "\n",
    "I will also create some dataframe to start the clusteuring and segmentation task, trying to group neighbordhoods arond the Bronx with their frequency.\n",
    "\n",
    "And I think that the clustering with k mean methode will give me several options with scenarios about the most common venues showing Bus sation, Fruit and Vegetable Store, and so on.\n",
    "\n",
    "### III/ Result section: overview\n",
    "Here I will present to M Rob Z, different options by making a comment of the differents dataframe borough by the clustering methode:\n",
    "\n",
    "One scenario about M Rob Z first choice to launch his activity in Bedford Park,\n",
    "the place he loves.\n",
    "\n",
    "The second option will be to share another possibily to locate his store in another neighbordhood wich can also be seen as a market place for Vegetaian activities.\n",
    "\n",
    "And then, I will finish with the location howing bus stations which can be usefull for M Rob Z.\n",
    "\n",
    "\n",
    "### IV/ Discussion and conclusion section: overview\n",
    "To write any observation, feedback and modification to finalize the deliverable job "
   ]
  },
  {
   "cell_type": "code",
   "execution_count": null,
   "metadata": {},
   "outputs": [],
   "source": []
  }
 ],
 "metadata": {
  "kernelspec": {
   "display_name": "Python 3.6",
   "language": "python",
   "name": "python3"
  },
  "language_info": {
   "codemirror_mode": {
    "name": "ipython",
    "version": 3
   },
   "file_extension": ".py",
   "mimetype": "text/x-python",
   "name": "python",
   "nbconvert_exporter": "python",
   "pygments_lexer": "ipython3",
   "version": "3.6.9"
  }
 },
 "nbformat": 4,
 "nbformat_minor": 1
}
